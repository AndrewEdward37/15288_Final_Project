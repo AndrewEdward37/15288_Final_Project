{
 "cells": [
  {
   "cell_type": "code",
   "execution_count": null,
   "metadata": {},
   "outputs": [],
   "source": [
    "import pandas as pd\n",
    "import numpy as np\n",
    "import matplotlib\n",
    "import matplotlib.pyplot as plt\n",
    "matplotlib.rcParams['figure.dpi']= 100"
   ]
  },
  {
   "cell_type": "code",
   "execution_count": null,
   "metadata": {
    "scrolled": true
   },
   "outputs": [],
   "source": [
    "# Read the CSV file\n",
    "NBA_players = pd.read_csv('NBA_dataset.csv')\n",
    "NBA_players"
   ]
  },
  {
   "cell_type": "markdown",
   "metadata": {},
   "source": [
    "## Iteration 1"
   ]
  },
  {
   "cell_type": "markdown",
   "metadata": {},
   "source": [
    "(Describe your current solution approach / algorithm in words, justify why you are choosing to try this specific approach then implement it.)"
   ]
  },
  {
   "cell_type": "markdown",
   "metadata": {},
   "source": [
    "SVC, Decision Tree, Random Forest, MLP"
   ]
  },
  {
   "cell_type": "code",
   "execution_count": null,
   "metadata": {},
   "outputs": [],
   "source": [
    "features = NBA_players.iloc[:,:-1]\n",
    "targets = NBA_players['Salary']"
   ]
  },
  {
   "cell_type": "code",
   "execution_count": null,
   "metadata": {},
   "outputs": [],
   "source": [
    "from sklearn.model_selection import train_test_split \n",
    "from sklearn import metrics \n",
    "\n",
    "features_train, features_test, targets_train, targets_test = train_test_split(features, targets,  \n",
    "                                            test_size=0.20, shuffle=False,\n",
    "                                            random_state=99)"
   ]
  },
  {
   "cell_type": "markdown",
   "metadata": {},
   "source": [
    "### SVC"
   ]
  },
  {
   "cell_type": "code",
   "execution_count": null,
   "metadata": {
    "scrolled": true
   },
   "outputs": [],
   "source": [
    "from sklearn.svm import SVC\n",
    "\n",
    "clf = SVC(kernel='linear', C=1.0, tol=0.1, verbose=True)\n",
    "\n",
    "clf.fit(features_train, targets_train)\n",
    "\n",
    "targets_pred = clf.predict(features_test)\n",
    "\n",
    "accuracy = metrics.accuracy_score(targets_test, targets_pred)\n",
    "\n",
    "print('\\n*** Accuracy {}: {:.3f} ***'.format(clf.__class__.__name__, accuracy))"
   ]
  },
  {
   "cell_type": "markdown",
   "metadata": {},
   "source": [
    "### Decision Tree"
   ]
  },
  {
   "cell_type": "code",
   "execution_count": null,
   "metadata": {},
   "outputs": [],
   "source": [
    "from sklearn import tree\n",
    "\n",
    "criterion = 'entropy'\n",
    "max_depth = 3\n",
    "rnd_seed = 99\n",
    "\n",
    "decision_tree = tree.DecisionTreeClassifier(criterion=criterion, \n",
    "                                            max_depth=max_depth, \n",
    "                                            random_state=rnd_seed)\n",
    "\n",
    "dt_classifier = decision_tree.fit(features, targets)\n",
    "\n",
    "Y_pred = dt_classifier.predict(features_test)\n",
    "accuracy_test = metrics.accuracy_score(targets_test, Y_pred)\n",
    "\n",
    "Y_pred = dt_classifier.predict(features_train)\n",
    "accuracy_train = metrics.accuracy_score(targets_train, Y_pred)\n",
    "\n",
    "print(' Accuracy: {:.2f} ({:.2f})'.format(accuracy_test, accuracy_train))"
   ]
  },
  {
   "cell_type": "markdown",
   "metadata": {},
   "source": [
    "### m"
   ]
  },
  {
   "cell_type": "code",
   "execution_count": null,
   "metadata": {},
   "outputs": [],
   "source": []
  },
  {
   "cell_type": "markdown",
   "metadata": {},
   "source": [
    "### Lessons Learnt:\n",
    "\n",
    "Visualize the trained model and measure its cross-validated accuracy and\n",
    "report on it. What have you learnt from this experiment? How do these results help you move forward?"
   ]
  },
  {
   "cell_type": "markdown",
   "metadata": {},
   "source": [
    "## Iteration 2"
   ]
  },
  {
   "cell_type": "markdown",
   "metadata": {},
   "source": [
    "(Describe your current solution approach / algorithm in words, justify why you are choosing to try this specific approach then implement it.)"
   ]
  },
  {
   "cell_type": "code",
   "execution_count": null,
   "metadata": {},
   "outputs": [],
   "source": []
  },
  {
   "cell_type": "markdown",
   "metadata": {},
   "source": [
    "### Lessons Learnt:\n",
    "\n",
    "Visualize the trained model and measure its cross-validated accuracy and\n",
    "report on it. What have you learnt from this experiment? How do these results help you move forward?"
   ]
  },
  {
   "cell_type": "markdown",
   "metadata": {},
   "source": [
    "## Iteration 3"
   ]
  },
  {
   "cell_type": "markdown",
   "metadata": {},
   "source": [
    "(Describe your current solution approach / algorithm in words, justify why you are choosing to try this specific approach then implement it.)"
   ]
  },
  {
   "cell_type": "code",
   "execution_count": null,
   "metadata": {},
   "outputs": [],
   "source": []
  },
  {
   "cell_type": "markdown",
   "metadata": {},
   "source": [
    "### Lessons Learnt:\n",
    "\n",
    "Visualize the trained model and measure its cross-validated accuracy and\n",
    "report on it. What have you learnt from this experiment? How do these results help you move forward?"
   ]
  },
  {
   "cell_type": "code",
   "execution_count": 1,
   "metadata": {},
   "outputs": [],
   "source": [
    "import ipywidgets as widgets\n",
    "from IPython.display import display\n",
    "import matplotlib.pyplot as plt"
   ]
  },
  {
   "cell_type": "code",
   "execution_count": 2,
   "metadata": {},
   "outputs": [
    {
     "data": {
      "application/vnd.jupyter.widget-view+json": {
       "model_id": "2c7820acfc21478e882f11470b77c319",
       "version_major": 2,
       "version_minor": 0
      },
      "text/plain": [
       "Dropdown(description='Number:', index=1, options=('1', '2', '3'), value='2')"
      ]
     },
     "metadata": {},
     "output_type": "display_data"
    }
   ],
   "source": [
    "\n",
    "widgets.BoundedIntText(\n",
    "    value=7,\n",
    "    min=0,\n",
    "    max=10,\n",
    "    step=1,\n",
    "    description='Text:',\n",
    "    disabled=False\n",
    ")\n",
    "\n",
    "widgets.Dropdown(\n",
    "    options=['1', '2', '3'],\n",
    "    value='2',\n",
    "    description='Number:',\n",
    "    disabled=False,\n",
    ")"
   ]
  },
  {
   "cell_type": "code",
   "execution_count": 5,
   "metadata": {},
   "outputs": [
    {
     "data": {
      "application/vnd.jupyter.widget-view+json": {
       "model_id": "c29963f2e594442f8733d54c1c1ea3ba",
       "version_major": 2,
       "version_minor": 0
      },
      "text/plain": [
       "GridBox(children=(BoundedIntText(value=7, description='Text:', max=10), Label(value='Hello'), Label(value='Hel…"
      ]
     },
     "metadata": {},
     "output_type": "display_data"
    }
   ],
   "source": [
    "# x = widgets.BoundedIntText(\n",
    "#     value=7,\n",
    "#     min=0,\n",
    "#     max=10,\n",
    "#     step=1,\n",
    "#     description='Text:',\n",
    "#     disabled=False\n",
    "# )\n",
    "# items = [x, widgets.Label(\"Hello\"), widgets.Label(\"Hello\")]\n",
    "# widgets.GridBox(items, layout=widgets.Layout(grid_template_columns=\"repeat(3, 100px)\"))"
   ]
  },
  {
   "cell_type": "code",
   "execution_count": null,
   "metadata": {},
   "outputs": [],
   "source": [
    "#Goals scored\n",
    "GS = widgets.BoundedIntText(\n",
    "    value=7,\n",
    "    min=0,\n",
    "    max=10,\n",
    "    step=1,\n",
    "    description='Text:',\n",
    "    disabled=False\n",
    ")"
   ]
  },
  {
   "cell_type": "code",
   "execution_count": 9,
   "metadata": {},
   "outputs": [
    {
     "data": {
      "application/vnd.jupyter.widget-view+json": {
       "model_id": "143bc48d0e074849b0fd047fc7e287da",
       "version_major": 2,
       "version_minor": 0
      },
      "text/plain": [
       "HBox(children=(VBox(children=(Label(value='NBA PLAYER QuAM:'), BoundedIntText(value=7, description='Text:', ma…"
      ]
     },
     "metadata": {},
     "output_type": "display_data"
    }
   ],
   "source": [
    "# items = [widgets.Label(str(i)) for i in range(4)]\n",
    "left_box = widgets.VBox([widgets.Label(\"NBA PLAYER QuAM:\"),\n",
    "                         x,\n",
    "                         \n",
    "                        ])\n",
    "# right_box = widgets.VBox([items[2],])\n",
    "widgets.HBox([left_box])"
   ]
  }
 ],
 "metadata": {
  "kernelspec": {
   "display_name": "Python 3",
   "language": "python",
   "name": "python3"
  },
  "language_info": {
   "codemirror_mode": {
    "name": "ipython",
    "version": 3
   },
   "file_extension": ".py",
   "mimetype": "text/x-python",
   "name": "python",
   "nbconvert_exporter": "python",
   "pygments_lexer": "ipython3",
   "version": "3.7.6"
  }
 },
 "nbformat": 4,
 "nbformat_minor": 4
}
